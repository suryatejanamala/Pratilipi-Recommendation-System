{
  "nbformat": 4,
  "nbformat_minor": 0,
  "metadata": {
    "colab": {
      "provenance": []
    },
    "kernelspec": {
      "name": "python3",
      "display_name": "Python 3"
    },
    "language_info": {
      "name": "python"
    }
  },
  "cells": [
    {
      "cell_type": "code",
      "execution_count": 1,
      "metadata": {
        "colab": {
          "base_uri": "https://localhost:8080/"
        },
        "id": "CD_UW6rxvD6o",
        "outputId": "c7028a12-3188-4053-a335-764187d50bd8"
      },
      "outputs": [
        {
          "output_type": "stream",
          "name": "stdout",
          "text": [
            "Requirement already satisfied: pandas in /usr/local/lib/python3.11/dist-packages (2.2.2)\n",
            "Requirement already satisfied: numpy in /usr/local/lib/python3.11/dist-packages (1.26.4)\n",
            "Requirement already satisfied: scikit-learn in /usr/local/lib/python3.11/dist-packages (1.6.1)\n",
            "Requirement already satisfied: matplotlib in /usr/local/lib/python3.11/dist-packages (3.10.0)\n",
            "Requirement already satisfied: seaborn in /usr/local/lib/python3.11/dist-packages (0.13.2)\n",
            "Requirement already satisfied: python-dateutil>=2.8.2 in /usr/local/lib/python3.11/dist-packages (from pandas) (2.8.2)\n",
            "Requirement already satisfied: pytz>=2020.1 in /usr/local/lib/python3.11/dist-packages (from pandas) (2025.1)\n",
            "Requirement already satisfied: tzdata>=2022.7 in /usr/local/lib/python3.11/dist-packages (from pandas) (2025.1)\n",
            "Requirement already satisfied: scipy>=1.6.0 in /usr/local/lib/python3.11/dist-packages (from scikit-learn) (1.13.1)\n",
            "Requirement already satisfied: joblib>=1.2.0 in /usr/local/lib/python3.11/dist-packages (from scikit-learn) (1.4.2)\n",
            "Requirement already satisfied: threadpoolctl>=3.1.0 in /usr/local/lib/python3.11/dist-packages (from scikit-learn) (3.5.0)\n",
            "Requirement already satisfied: contourpy>=1.0.1 in /usr/local/lib/python3.11/dist-packages (from matplotlib) (1.3.1)\n",
            "Requirement already satisfied: cycler>=0.10 in /usr/local/lib/python3.11/dist-packages (from matplotlib) (0.12.1)\n",
            "Requirement already satisfied: fonttools>=4.22.0 in /usr/local/lib/python3.11/dist-packages (from matplotlib) (4.56.0)\n",
            "Requirement already satisfied: kiwisolver>=1.3.1 in /usr/local/lib/python3.11/dist-packages (from matplotlib) (1.4.8)\n",
            "Requirement already satisfied: packaging>=20.0 in /usr/local/lib/python3.11/dist-packages (from matplotlib) (24.2)\n",
            "Requirement already satisfied: pillow>=8 in /usr/local/lib/python3.11/dist-packages (from matplotlib) (11.1.0)\n",
            "Requirement already satisfied: pyparsing>=2.3.1 in /usr/local/lib/python3.11/dist-packages (from matplotlib) (3.2.1)\n",
            "Requirement already satisfied: six>=1.5 in /usr/local/lib/python3.11/dist-packages (from python-dateutil>=2.8.2->pandas) (1.17.0)\n"
          ]
        }
      ],
      "source": [
        "# Install necessary libraries\n",
        "!pip install pandas numpy scikit-learn matplotlib seaborn\n"
      ]
    },
    {
      "cell_type": "code",
      "source": [
        "import pandas as pd\n",
        "\n",
        "# Load the datasets from Google Drive\n",
        "user_interaction = pd.read_csv(\"/content/drive/MyDrive/dataset/user_interaction.csv\")\n",
        "meta_data = pd.read_csv(\"/content/drive/MyDrive/dataset/metadata.csv\")\n"
      ],
      "metadata": {
        "id": "bKqRSh98vbDo"
      },
      "execution_count": 2,
      "outputs": []
    },
    {
      "cell_type": "code",
      "source": [
        "# Inspecting the first few rows of both datasets\n",
        "print(user_interaction.head())\n",
        "print(meta_data.head())\n",
        "\n",
        "# Summary statistics\n",
        "print(user_interaction.describe())\n",
        "print(meta_data.describe())\n",
        "\n",
        "# Check for missing values\n",
        "print(user_interaction.isnull().sum())\n",
        "print(meta_data.isnull().sum())\n"
      ],
      "metadata": {
        "colab": {
          "base_uri": "https://localhost:8080/"
        },
        "id": "POgNnhCzvbGM",
        "outputId": "adf3fdb8-f762-473a-9cdd-270e75d05393"
      },
      "execution_count": 3,
      "outputs": [
        {
          "output_type": "stream",
          "name": "stdout",
          "text": [
            "            user_id      pratilipi_id  read_percent               updated_at\n",
            "0  5506791961876448  1377786228262109         100.0  2022-03-22 10:29:57.291\n",
            "1  5506791971543560  1377786223038206          40.0  2022-03-19 13:49:25.660\n",
            "2  5506791996468218  1377786227025240         100.0  2022-03-21 17:28:47.288\n",
            "3  5506791978752866  1377786222398208          65.0  2022-03-21 07:39:25.183\n",
            "4  5506791978962946  1377786228157051         100.0  2022-03-22 17:32:44.777\n",
            "          author_id      pratilipi_id category_name  reading_time  \\\n",
            "0 -3418949279741297  1025741862639304   translation             0   \n",
            "1 -2270332351871840  1377786215601277   translation           171   \n",
            "2 -2270332352037261  1377786215601962   translation            92   \n",
            "3 -2270332352521845  1377786215640994   translation             0   \n",
            "4 -2270332349665658  1377786215931338   translation            47   \n",
            "\n",
            "            updated_at         published_at  \n",
            "0  2020-08-19 15:26:13  2016-09-30 10:37:04  \n",
            "1  2021-01-21 16:27:07  2018-06-11 13:17:48  \n",
            "2  2020-09-29 12:33:57  2018-06-12 04:19:12  \n",
            "3  2019-10-17 09:03:37  2019-09-26 14:58:53  \n",
            "4  2020-05-05 11:33:41  2018-11-25 12:28:23  \n",
            "            user_id  pratilipi_id  read_percent\n",
            "count  2.500000e+06  2.500000e+06  2.500000e+06\n",
            "mean   5.489174e+15  1.369444e+15  9.324295e+01\n",
            "std    1.606705e+14  1.221756e+14  2.170149e+01\n",
            "min    3.257553e+15 -5.375940e+15  0.000000e+00\n",
            "25%    5.506792e+15  1.377786e+15  1.000000e+02\n",
            "50%    5.506792e+15  1.377786e+15  1.000000e+02\n",
            "75%    5.506792e+15  1.377786e+15  1.000000e+02\n",
            "max    5.506792e+15  1.377786e+15  2.400000e+03\n",
            "          author_id  pratilipi_id   reading_time\n",
            "count  9.545010e+05  9.545010e+05  954501.000000\n",
            "mean  -2.379597e+15  1.368571e+15     351.979334\n",
            "std    3.922020e+14  1.161105e+14     513.959547\n",
            "min   -9.070332e+15 -8.734611e+14       0.000000\n",
            "25%   -2.270332e+15  1.377786e+15     111.000000\n",
            "50%   -2.270332e+15  1.377786e+15     256.000000\n",
            "75%   -2.270332e+15  1.377786e+15     461.000000\n",
            "max   -2.270332e+15  1.377786e+15   78983.000000\n",
            "user_id         0\n",
            "pratilipi_id    0\n",
            "read_percent    0\n",
            "updated_at      0\n",
            "dtype: int64\n",
            "author_id        0\n",
            "pratilipi_id     0\n",
            "category_name    0\n",
            "reading_time     0\n",
            "updated_at       0\n",
            "published_at     7\n",
            "dtype: int64\n"
          ]
        }
      ]
    },
    {
      "cell_type": "code",
      "source": [
        "# Convert 'updated_at' to datetime\n",
        "user_interaction['updated_at'] = pd.to_datetime(user_interaction['updated_at'])\n",
        "meta_data['updated_at'] = pd.to_datetime(meta_data['updated_at'])\n",
        "meta_data['published_at'] = pd.to_datetime(meta_data['published_at'], errors='coerce')\n",
        "\n",
        "# Drop rows where 'published_at' is NaN\n",
        "meta_data = meta_data.dropna(subset=['published_at'])\n",
        "\n",
        "# Check for null values again after cleaning\n",
        "print(user_interaction.isnull().sum())\n",
        "print(meta_data.isnull().sum())\n"
      ],
      "metadata": {
        "colab": {
          "base_uri": "https://localhost:8080/"
        },
        "id": "iXkU_g7kvzni",
        "outputId": "64f557f7-5a2b-4741-cd7c-eeb151735cde"
      },
      "execution_count": 4,
      "outputs": [
        {
          "output_type": "stream",
          "name": "stdout",
          "text": [
            "user_id         0\n",
            "pratilipi_id    0\n",
            "read_percent    0\n",
            "updated_at      0\n",
            "dtype: int64\n",
            "author_id        0\n",
            "pratilipi_id     0\n",
            "category_name    0\n",
            "reading_time     0\n",
            "updated_at       0\n",
            "published_at     0\n",
            "dtype: int64\n"
          ]
        }
      ]
    },
    {
      "cell_type": "code",
      "source": [
        "# Remove outliers in read_percent (greater than 100)\n",
        "user_interaction = user_interaction[user_interaction['read_percent'] <= 100]\n"
      ],
      "metadata": {
        "id": "benzB2Q7vbI0"
      },
      "execution_count": 5,
      "outputs": []
    },
    {
      "cell_type": "code",
      "source": [
        "# Create user features (e.g., total stories read, average read percentage)\n",
        "user_features = user_interaction.groupby('user_id').agg(\n",
        "    total_stories_read=('pratilipi_id', 'nunique'),\n",
        "    avg_read_percentage=('read_percent', 'mean')\n",
        ").reset_index()\n",
        "\n",
        "# Merge with user_interaction data to get user-level features\n",
        "user_interaction = user_interaction.merge(user_features, on='user_id', how='left')\n"
      ],
      "metadata": {
        "id": "ivC3anDTvbLZ"
      },
      "execution_count": 6,
      "outputs": []
    },
    {
      "cell_type": "code",
      "source": [
        "# Extract multiple categories per pratilipi (in case of multiple categories)\n",
        "meta_data['category_list'] = meta_data['category_name'].str.split(',')\n",
        "\n",
        "# Merge user interactions with meta data to get pratilipi category and reading time\n",
        "interaction_with_meta = user_interaction.merge(meta_data[['pratilipi_id', 'category_name', 'reading_time']],\n",
        "                                               on='pratilipi_id', how='left')\n"
      ],
      "metadata": {
        "id": "fay2-Q0jvbNx"
      },
      "execution_count": 7,
      "outputs": []
    },
    {
      "cell_type": "code",
      "source": [
        "# Sort by updated_at and split the data\n",
        "user_interaction = user_interaction.sort_values(by='updated_at')\n",
        "\n",
        "# Train-Test Split (75% train, 25% test)\n",
        "train_data = user_interaction.iloc[:int(0.75 * len(user_interaction))]\n",
        "test_data = user_interaction.iloc[int(0.75 * len(user_interaction)):]\n"
      ],
      "metadata": {
        "id": "cH-8Bw92vbQY"
      },
      "execution_count": 8,
      "outputs": []
    },
    {
      "cell_type": "code",
      "source": [
        "!pip install scikit-surprise"
      ],
      "metadata": {
        "colab": {
          "base_uri": "https://localhost:8080/"
        },
        "id": "vz14kYWBwV5w",
        "outputId": "65d03766-70f4-435e-9e87-b5b931af7fc2"
      },
      "execution_count": 10,
      "outputs": [
        {
          "output_type": "stream",
          "name": "stdout",
          "text": [
            "Collecting scikit-surprise\n",
            "  Downloading scikit_surprise-1.1.4.tar.gz (154 kB)\n",
            "\u001b[?25l     \u001b[90m━━━━━━━━━━━━━━━━━━━━━━━━━━━━━━━━━━━━━━━━\u001b[0m \u001b[32m0.0/154.4 kB\u001b[0m \u001b[31m?\u001b[0m eta \u001b[36m-:--:--\u001b[0m\r\u001b[2K     \u001b[91m━━━━━━━━━━━━━━━━━━━━━━━━━━━━━━━━━━━━━━━\u001b[0m\u001b[91m╸\u001b[0m \u001b[32m153.6/154.4 kB\u001b[0m \u001b[31m4.5 MB/s\u001b[0m eta \u001b[36m0:00:01\u001b[0m\r\u001b[2K     \u001b[90m━━━━━━━━━━━━━━━━━━━━━━━━━━━━━━━━━━━━━━━━\u001b[0m \u001b[32m154.4/154.4 kB\u001b[0m \u001b[31m3.1 MB/s\u001b[0m eta \u001b[36m0:00:00\u001b[0m\n",
            "\u001b[?25h  Installing build dependencies ... \u001b[?25l\u001b[?25hdone\n",
            "  Getting requirements to build wheel ... \u001b[?25l\u001b[?25hdone\n",
            "  Preparing metadata (pyproject.toml) ... \u001b[?25l\u001b[?25hdone\n",
            "Requirement already satisfied: joblib>=1.2.0 in /usr/local/lib/python3.11/dist-packages (from scikit-surprise) (1.4.2)\n",
            "Requirement already satisfied: numpy>=1.19.5 in /usr/local/lib/python3.11/dist-packages (from scikit-surprise) (1.26.4)\n",
            "Requirement already satisfied: scipy>=1.6.0 in /usr/local/lib/python3.11/dist-packages (from scikit-surprise) (1.13.1)\n",
            "Building wheels for collected packages: scikit-surprise\n",
            "  Building wheel for scikit-surprise (pyproject.toml) ... \u001b[?25l\u001b[?25hdone\n",
            "  Created wheel for scikit-surprise: filename=scikit_surprise-1.1.4-cp311-cp311-linux_x86_64.whl size=2505174 sha256=9c3502d07aecf07f2147ed4d7f5653e427ed499b87d185e53e753eac2d1aa3c1\n",
            "  Stored in directory: /root/.cache/pip/wheels/2a/8f/6e/7e2899163e2d85d8266daab4aa1cdabec7a6c56f83c015b5af\n",
            "Successfully built scikit-surprise\n",
            "Installing collected packages: scikit-surprise\n",
            "Successfully installed scikit-surprise-1.1.4\n"
          ]
        }
      ]
    },
    {
      "cell_type": "code",
      "source": [
        "#Model Building\n",
        "#Set up and train the collaborative filtering model (SVD).\n",
        "\n",
        "from surprise import SVD, Dataset, Reader\n",
        "from surprise.model_selection import train_test_split\n",
        "from surprise import accuracy\n",
        "\n",
        "# Prepare the data for the Surprise library\n",
        "reader = Reader(rating_scale=(0, 100))\n",
        "data = Dataset.load_from_df(train_data[['user_id', 'pratilipi_id', 'read_percent']], reader)\n",
        "\n",
        "# Split the data into training and testing sets\n",
        "trainset, testset = train_test_split(data, test_size=0.25)\n",
        "\n",
        "# Train the SVD model\n",
        "model = SVD()\n",
        "model.fit(trainset)\n",
        "\n",
        "# Evaluate the model on the test data\n",
        "predictions = model.test(testset)\n",
        "\n",
        "# Calculate RMSE (Root Mean Squared Error)\n",
        "rmse = accuracy.rmse(predictions)\n",
        "print(f\"RMSE: {rmse}\")\n"
      ],
      "metadata": {
        "colab": {
          "base_uri": "https://localhost:8080/"
        },
        "id": "Y3MiGSuKvbS9",
        "outputId": "32d8d881-6fed-4eab-f3bb-134f3c77d270"
      },
      "execution_count": 11,
      "outputs": [
        {
          "output_type": "stream",
          "name": "stdout",
          "text": [
            "RMSE: 22.3720\n",
            "RMSE: 22.372039837988925\n"
          ]
        }
      ]
    },
    {
      "cell_type": "code",
      "source": [
        "#Predictions and Recommendations:\n",
        "#Generate top 5 pratilipis for each user.\n",
        "\n",
        "\n",
        "from collections import defaultdict\n",
        "\n",
        "# Get the top 5 recommendations for each user\n",
        "top_n = defaultdict(list)\n",
        "\n",
        "for uid, iid, true_r, est, _ in predictions:\n",
        "    top_n[uid].append((iid, est))\n",
        "\n",
        "# Sort and get the top 5 recommendations for each user\n",
        "for uid, user_ratings in top_n.items():\n",
        "    user_ratings.sort(key=lambda x: x[1], reverse=True)\n",
        "    top_n[uid] = user_ratings[:5]\n",
        "\n",
        "# Display top 5 recommendations for the first 5 users\n",
        "for uid, recommended_items in list(top_n.items())[:5]:\n",
        "    print(f\"User {uid}: {recommended_items}\")\n"
      ],
      "metadata": {
        "colab": {
          "base_uri": "https://localhost:8080/"
        },
        "id": "cs6QV-sLvbX7",
        "outputId": "7c6c48e0-6484-40f9-d854-45830a5f96b6"
      },
      "execution_count": 12,
      "outputs": [
        {
          "output_type": "stream",
          "name": "stdout",
          "text": [
            "User 5506791966280495: [(1377786219672726, 100)]\n",
            "User 5506791968624247: [(1377786223936248, 100), (1377786222606858, 100), (1377786224655297, 100), (1377786228039628, 100), (1377786222825840, 100)]\n",
            "User 5506791987341146: [(1377786227792278, 100), (1377786227820041, 100), (1377786221889554, 100), (1377786222685592, 100), (1377786222053149, 100)]\n",
            "User 5506791973485874: [(1377786221237656, 100), (1377786221321675, 100)]\n",
            "User 5506791983111623: [(1377786220907572, 100), (1377786221024320, 100)]\n"
          ]
        }
      ]
    }
  ]
}